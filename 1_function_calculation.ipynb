{
 "cells": [
  {
   "cell_type": "code",
   "execution_count": 2,
   "metadata": {
    "executionInfo": {
     "elapsed": 257,
     "status": "ok",
     "timestamp": 1647598590277,
     "user": {
      "displayName": "Red Sun",
      "photoUrl": "https://lh3.googleusercontent.com/a-/AOh14Givo8cLsOr7QXjBmCcm-nzHi70d2pyKygA0KN2E=s64",
      "userId": "01763149387241763802"
     },
     "user_tz": -180
    },
    "id": "mFvUeM11DSHk"
   },
   "outputs": [],
   "source": [
    "import math\n",
    "import pandas as pd\n",
    "import numpy as np\n",
    "def root2(x):\n",
    "    eps2 = 0.23308e-6 \n",
    "    r0 = 1\n",
    "    r1 =  0.5 * (r0 + x/r0)\n",
    "    \n",
    "    while abs(r1 - r0) >= eps2:\n",
    "        r0 = r1\n",
    "        r1 =  0.5 * (r0 + x/r0)\n",
    "    return r0\n",
    "def arctg1(x):\n",
    "    eps1 = 1.0469e-6\n",
    "    a0 = 16.7*x+0.1\n",
    "    a1 = -1*((16.7*x+0.1)**3)/3\n",
    "    sum = a0 + a1\n",
    "    k = 2\n",
    "    while abs(a1-a0) >= eps1:\n",
    "        a0 = a1\n",
    "        a1 = (((16.7*x+0.1)**(2*k+1))/(2*k+1))*((-1)**k)\n",
    "        sum += a1\n",
    "        k += 1\n",
    "    return sum\n",
    "def cos3(x):\n",
    "    eps3 = 0.11967e-6\n",
    "    c0 = 1\n",
    "    c1 = (-1/2)*((7*x+0.3)**2)\n",
    "    k = 2\n",
    "    sum = c0 + c1\n",
    "    while abs(c1-c0) >= eps3:\n",
    "        #print(sum)\n",
    "        c0 = c1\n",
    "        c1 = ((-1)**k)*((7*x+0.3)**(2*k))/math.factorial(2*k)\n",
    "        sum += c1\n",
    "        k += 1\n",
    "    return sum\n",
    "def z(x):\n",
    "    return root2(1+arctg1(x))/cos3(x)\n",
    "def z_true(x):\n",
    "    return np.sqrt(1+math.atan(16.7*x+0.1))/math.cos(7*x+0.3)"
   ]
  },
  {
   "cell_type": "code",
   "execution_count": 79,
   "metadata": {
    "colab": {
     "base_uri": "https://localhost:8080/"
    },
    "executionInfo": {
     "elapsed": 440,
     "status": "ok",
     "timestamp": 1647600654979,
     "user": {
      "displayName": "Red Sun",
      "photoUrl": "https://lh3.googleusercontent.com/a-/AOh14Givo8cLsOr7QXjBmCcm-nzHi70d2pyKygA0KN2E=s64",
      "userId": "01763149387241763802"
     },
     "user_tz": -180
    },
    "id": "D2JixNe8YjGV",
    "outputId": "7d71d23e-c8ed-41a2-ce95-904e0fceb767"
   },
   "outputs": [
    {
     "name": "stdout",
     "output_type": "stream",
     "text": [
      "       a        z*         z      |z - z*|\n",
      "0  0.010  1.204410  1.204410  9.086680e-10\n",
      "1  0.015  1.258118  1.258118  6.110217e-09\n",
      "2  0.020  1.312195  1.312195  1.027209e-08\n",
      "3  0.025  1.366867  1.366867  4.553953e-09\n",
      "4  0.030  1.422447  1.422447  6.524820e-08\n",
      "5  0.035  1.479322  1.479322  6.801631e-08\n",
      "6  0.040  1.537950  1.537950  1.408136e-07\n",
      "7  0.045  1.598847  1.598847  6.071308e-08\n",
      "8  0.050  1.662592  1.662593  1.029302e-07\n"
     ]
    }
   ],
   "source": [
    "a = np.arange(0.01, 0.055, 0.005)\n",
    "z_arr = [z(i) for i in a]\n",
    "z_true_arr = [z_true(i) for i in a]\n",
    "diff = [abs(z_arr[i] - z_true_arr[i]) for i in range(len(a))]\n",
    "res = pd.DataFrame({'a': a, 'z*': z_arr, 'z': z_true_arr, \"|z - z*|\": diff})\n",
    "print(res)"
   ]
  }
 ],
 "metadata": {
  "colab": {
   "authorship_tag": "ABX9TyOR3hv5fWJb8MlTTHHTu5lu",
   "collapsed_sections": [],
   "name": "NumMet1.ipynb",
   "provenance": []
  },
  "kernelspec": {
   "display_name": "Python 3 (ipykernel)",
   "language": "python",
   "name": "python3"
  },
  "language_info": {
   "codemirror_mode": {
    "name": "ipython",
    "version": 3
   },
   "file_extension": ".py",
   "mimetype": "text/x-python",
   "name": "python",
   "nbconvert_exporter": "python",
   "pygments_lexer": "ipython3",
   "version": "3.9.7"
  }
 },
 "nbformat": 4,
 "nbformat_minor": 1
}
